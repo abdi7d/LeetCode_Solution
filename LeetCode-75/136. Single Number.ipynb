{
 "cells": [
  {
   "cell_type": "markdown",
   "id": "1b65dbad",
   "metadata": {},
   "source": [
    "## 136. Single Number\n",
    "\n",
    "Problem link: https://leetcode.com/problems/single-number/description/?envType=study-plan-v2&envId=leetcode-75 "
   ]
  },
  {
   "cell_type": "markdown",
   "id": "69410c48",
   "metadata": {},
   "source": [
    "### **Solution**"
   ]
  },
  {
   "cell_type": "markdown",
   "id": "2b4df9d3",
   "metadata": {},
   "source": [
    "\n",
    "#### Key Insight:\n",
    "\n",
    "* Any number XORed with itself becomes `0` → `a ^ a = 0`\n",
    "* Any number XORed with `0` remains the same → `a ^ 0 = a`\n",
    "* Since every number appears **twice except one**, all the pairs will cancel out, leaving only the single number.\n",
    "\n",
    "\n",
    "#### Code Solution:"
   ]
  },
  {
   "cell_type": "code",
   "execution_count": 1,
   "id": "42928994",
   "metadata": {},
   "outputs": [],
   "source": [
    "from typing import List\n",
    "\n",
    "class Solution:\n",
    "    def singleNumber(self, nums: List[int]) -> int:\n",
    "        result = 0\n",
    "        for num in nums:\n",
    "            result ^= num   # XOR with result\n",
    "        return result"
   ]
  },
  {
   "cell_type": "markdown",
   "id": "869c67c3",
   "metadata": {},
   "source": [
    "#### Example Walkthrough:\n",
    "\n",
    "Input: `nums = [4,1,2,1,2]`\n",
    "\n",
    "* Start with `result = 0`\n",
    "* `0 ^ 4 = 4`\n",
    "* `4 ^ 1 = 5`\n",
    "* `5 ^ 2 = 7`\n",
    "* `7 ^ 1 = 6`\n",
    "* `6 ^ 2 = 4`\n",
    "\n",
    " Output → `4`\n",
    "\n",
    "\n",
    "\n",
    "#### Complexity:\n",
    "\n",
    "**Time Complexity**\n",
    "- We loop through the list once.\n",
    "\n",
    "- Each XOR operation takes O(1).\n",
    "\n",
    "- For n elements, total time = O(n).\n",
    "\n",
    "**Space Complexity**\n",
    "- We only store one variable (result).\n",
    "\n",
    "- No extra data structures are used.\n",
    "    \n",
    "- Space = O(1) (constant space).\n",
    "\n",
    "* **Time:** O(n) → iterate once\n",
    "* **Space:** O(1) → constant extra space"
   ]
  },
  {
   "cell_type": "markdown",
   "id": "5fa497a0",
   "metadata": {},
   "source": []
  }
 ],
 "metadata": {
  "kernelspec": {
   "display_name": "Python 3",
   "language": "python",
   "name": "python3"
  },
  "language_info": {
   "codemirror_mode": {
    "name": "ipython",
    "version": 3
   },
   "file_extension": ".py",
   "mimetype": "text/x-python",
   "name": "python",
   "nbconvert_exporter": "python",
   "pygments_lexer": "ipython3",
   "version": "3.13.6"
  }
 },
 "nbformat": 4,
 "nbformat_minor": 5
}
