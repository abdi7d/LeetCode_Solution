{
 "cells": [
  {
   "cell_type": "markdown",
   "id": "1b65dbad",
   "metadata": {},
   "source": [
    "## 136. Single Number\n",
    "\n",
    "Problem link: https://leetcode.com/problems/single-number/description/?envType=study-plan-v2&envId=leetcode-75 "
   ]
  },
  {
   "cell_type": "markdown",
   "id": "69410c48",
   "metadata": {},
   "source": [
    "### **Solution**"
   ]
  },
  {
   "cell_type": "markdown",
   "id": "2b4df9d3",
   "metadata": {},
   "source": [
    "\n",
    "### Key Insight:\n",
    "\n",
    "* Any number XORed with itself becomes `0` → `a ^ a = 0`\n",
    "* Any number XORed with `0` remains the same → `a ^ 0 = a`\n",
    "* Since every number appears **twice except one**, all the pairs will cancel out, leaving only the single number.\n",
    "\n",
    "\n",
    "### Code Solution:\n",
    "\n",
    "```python\n",
    "from typing import List\n",
    "\n",
    "class Solution:\n",
    "    def singleNumber(self, nums: List[int]) -> int:\n",
    "        result = 0\n",
    "        for num in nums:\n",
    "            result ^= num   # XOR with result\n",
    "        return result\n",
    "```\n",
    "\n",
    "\n",
    "### Example Walkthrough:\n",
    "\n",
    "Input: `nums = [4,1,2,1,2]`\n",
    "\n",
    "* Start with `result = 0`\n",
    "* `0 ^ 4 = 4`\n",
    "* `4 ^ 1 = 5`\n",
    "* `5 ^ 2 = 7`\n",
    "* `7 ^ 1 = 6`\n",
    "* `6 ^ 2 = 4`\n",
    "\n",
    " Output → `4`\n",
    "\n",
    "\n",
    "\n",
    "### Complexity:\n",
    "\n",
    "* **Time:** O(n) → iterate once\n",
    "* **Space:** O(1) → constant extra space\n"
   ]
  }
 ],
 "metadata": {
  "language_info": {
   "name": "python"
  }
 },
 "nbformat": 4,
 "nbformat_minor": 5
}
