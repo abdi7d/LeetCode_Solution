{
 "cells": [
  {
   "cell_type": "markdown",
   "id": "ad7a720a",
   "metadata": {},
   "source": [
    "### **735. Asteroid Collision**\n",
    "\n"
   ]
  },
  {
   "cell_type": "markdown",
   "id": "49c94c8d",
   "metadata": {},
   "source": [
    "#### **Solution**\n",
    "\n",
    "The task is to simulate collisions of asteroids moving left (`-`) or right (`+`). A **stack** is the best way to solve this problem.\n",
    "\n",
    "Here’s the full solution for your code stub:\n",
    "\n",
    "```python\n",
    "from typing import List\n",
    "\n",
    "class Solution:\n",
    "    def asteroidCollision(self, asteroids: List[int]) -> List[int]:\n",
    "        stack = []\n",
    "        for asteroid in asteroids:\n",
    "            # process current asteroid\n",
    "            while stack and asteroid < 0 < stack[-1]:\n",
    "                if stack[-1] < -asteroid:   # stack top is smaller, pop it\n",
    "                    stack.pop()\n",
    "                    continue\n",
    "                elif stack[-1] == -asteroid:  # equal size, both explode\n",
    "                    stack.pop()\n",
    "                break\n",
    "            else:\n",
    "                # no collision, safe to append\n",
    "                stack.append(asteroid)\n",
    "        return stack\n",
    "```\n",
    "\n",
    "---\n",
    "\n",
    "#### 🔎 How it works:\n",
    "\n",
    "* We use a **stack** to keep track of asteroids that are moving safely.\n",
    "* If the **current asteroid** moves left (`<0`) and the **top of stack** moves right (`>0`), a collision may happen.\n",
    "\n",
    "  * If top of stack is smaller → it explodes (`pop()`).\n",
    "  * If both are equal → both explode (pop, but don’t push the new one).\n",
    "  * If top of stack is larger → current asteroid explodes (don’t push).\n",
    "* If no collision occurs → push asteroid onto stack.\n",
    "\n",
    "---\n",
    "\n",
    "#### Example Run\n",
    "\n",
    "```python\n",
    "print(Solution().asteroidCollision([5,10,-5]))   # [5, 10]\n",
    "print(Solution().asteroidCollision([8,-8]))      # []\n",
    "print(Solution().asteroidCollision([10,2,-5]))   # [10]\n",
    "```"
   ]
  },
  {
   "cell_type": "markdown",
   "id": "b3214401",
   "metadata": {},
   "source": [
    "### **time and space complexity**\n",
    "\n",
    "\n",
    "#### ⏱ Time Complexity: **O(n)**\n",
    "\n",
    "* We loop through the input list of `n` asteroids once.\n",
    "* For each asteroid, in the **worst case**, we may pop from the stack multiple times.\n",
    "* But each asteroid can be **pushed at most once** and **popped at most once**.\n",
    "* So across the whole input, total operations ≤ `2n`.\n",
    "  ✅ **Overall: O(n)**\n",
    "\n",
    "\n",
    "#### 💾 Space Complexity: **O(n)**\n",
    "\n",
    "* We use a stack to store the surviving asteroids.\n",
    "* In the worst case (e.g., all asteroids moving in the same direction), none collide, and we store all `n`.\n",
    "  ✅ **Overall: O(n)**\n",
    "\n",
    "\n",
    "#### 📊 Summary:\n",
    "\n",
    "* **Time Complexity:** O(n)\n",
    "* **Space Complexity:** O(n)\n"
   ]
  }
 ],
 "metadata": {
  "language_info": {
   "name": "python"
  }
 },
 "nbformat": 4,
 "nbformat_minor": 5
}
